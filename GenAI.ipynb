{
  "cells": [
    {
      "cell_type": "markdown",
      "metadata": {
        "id": "view-in-github",
        "colab_type": "text"
      },
      "source": [
        "<a href=\"https://colab.research.google.com/github/arpitanaik911/GenAI/blob/main/GenAI.ipynb\" target=\"_parent\"><img src=\"https://colab.research.google.com/assets/colab-badge.svg\" alt=\"Open In Colab\"/></a>"
      ]
    },
    {
      "cell_type": "code",
      "execution_count": null,
      "metadata": {
        "colab": {
          "base_uri": "https://localhost:8080/"
        },
        "id": "jH5W4s35l2m5",
        "outputId": "0dcaffe8-d228-4c2f-c0d4-d81eff131fe9"
      },
      "outputs": [
        {
          "name": "stdout",
          "output_type": "stream",
          "text": [
            "\u001b[?25l     \u001b[90m━━━━━━━━━━━━━━━━━━━━━━━━━━━━━━━━━━━━━━━━\u001b[0m \u001b[32m0.0/43.1 kB\u001b[0m \u001b[31m?\u001b[0m eta \u001b[36m-:--:--\u001b[0m\r\u001b[2K     \u001b[90m━━━━━━━━━━━━━━━━━━━━━━━━━━━━━━━━━━━━━━━━\u001b[0m \u001b[32m43.1/43.1 kB\u001b[0m \u001b[31m1.8 MB/s\u001b[0m eta \u001b[36m0:00:00\u001b[0m\n",
            "\u001b[?25h\u001b[?25l   \u001b[90m━━━━━━━━━━━━━━━━━━━━━━━━━━━━━━━━━━━━━━━━\u001b[0m \u001b[32m0.0/219.4 kB\u001b[0m \u001b[31m?\u001b[0m eta \u001b[36m-:--:--\u001b[0m\r\u001b[2K   \u001b[90m━━━━━━━━━━━━━━━━━━━━━━━━━━━━━━━━━━━━━━━━\u001b[0m \u001b[32m219.4/219.4 kB\u001b[0m \u001b[31m7.9 MB/s\u001b[0m eta \u001b[36m0:00:00\u001b[0m\n",
            "\u001b[?25h"
          ]
        }
      ],
      "source": [
        "%pip install --upgrade --quiet google-genai"
      ]
    },
    {
      "cell_type": "code",
      "execution_count": null,
      "metadata": {
        "id": "XH7rADhVm6zS"
      },
      "outputs": [],
      "source": [
        "import sys\n",
        "if\"google.colab\" in sys.modules:\n",
        "  from google.colab import auth\n",
        "  auth.authenticate_user()"
      ]
    },
    {
      "cell_type": "code",
      "execution_count": null,
      "metadata": {
        "id": "AkNBxm2-q0p4"
      },
      "outputs": [],
      "source": [
        "from google.colab import userdata\n",
        "from google import genai\n",
        "\n",
        "\n",
        "GOOGLE_API_KEY = userdata.get('GOOGLE_API_KEY')\n",
        "client = genai.Client(api_key=GOOGLE_API_KEY)"
      ]
    },
    {
      "cell_type": "code",
      "execution_count": null,
      "metadata": {
        "id": "frqaKyY6q6t1"
      },
      "outputs": [],
      "source": [
        "MODEL_ID=\"gemini-2.0-flash\""
      ]
    },
    {
      "cell_type": "code",
      "execution_count": null,
      "metadata": {
        "colab": {
          "base_uri": "https://localhost:8080/",
          "height": 127
        },
        "id": "yILrpFU0q83F",
        "outputId": "f0dd9155-9827-423d-d4f2-0e320398e1a5"
      },
      "outputs": [
        {
          "data": {
            "application/vnd.google.colaboratory.intrinsic+json": {
              "type": "string"
            },
            "text/plain": [
              "\"AI workshops offer a wide range of activities depending on the focus and skill level they cater to. Here's a breakdown of things you might do in an AI workshop, categorized by topic and activity type:\\n\\n**I. By Topic/Focus:**\\n\\n*   **Introduction to AI & Machine Learning:**\\n\\n    *   **Discussions:** Defining AI, differentiating between AI, Machine Learning (ML), and Deep Learning (DL).\\n    *   **Hands-on demos:** Running pre-built AI models (e.g., image classification, sentiment analysis) to understand their applications.\\n    *   **Ethical considerations:** Discussing the societal impact of AI, bias in algorithms, and responsible development.\\n    *   **Industry applications:** Examining case studies of AI used in different sectors.\\n\\n*   **Machine Learning Fundamentals:**\\n\\n    *   **Learning core concepts:** Supervised learning, unsupervised learning, reinforcement learning, feature engineering, model evaluation.\\n    *   **Hands-on coding:** Using libraries like scikit-learn in Python to train basic ML models (e.g., linear regression, decision trees).\\n    *   **Data exploration & visualization:** Analyzing datasets to understand their properties and prepare them for modeling.\\n    *   **Model selection & hyperparameter tuning:** Experimenting with different algorithms and parameters to optimize model performance.\\n\\n*   **Deep Learning:**\\n\\n    *   **Understanding neural networks:** Exploring the architecture of neural networks, activation functions, and backpropagation.\\n    *   **Hands-on coding:** Building and training neural networks using frameworks like TensorFlow or PyTorch.\\n    *   **Image recognition:** Working with convolutional neural networks (CNNs) for image classification and object detection.\\n    *   **Natural Language Processing (NLP):** Training recurrent neural networks (RNNs) for tasks like text classification, language modeling, or machine translation.\\n    *   **Generative Adversarial Networks (GANs):** Learning about GANs and experimenting with generating synthetic data.\\n\\n*   **Specific AI Tools/Platforms:**\\n\\n    *   **Cloud AI services (e.g., AWS, Azure, Google Cloud):** Learning how to use pre-trained AI models and build custom solutions on cloud platforms.\\n    *   **No-code/Low-code AI platforms:** Exploring tools that allow you to build AI applications without extensive coding.\\n    *   **Robotics:** Working with robot simulation software and programming simple robot behaviors.\\n    *   **AI for specific industries:** Workshops focused on applying AI to healthcare, finance, manufacturing, etc.\\n\\n*   **AI Ethics & Societal Impact:**\\n\\n    *   **Case study analysis:** Examining real-world examples of ethical dilemmas in AI.\\n    *   **Bias detection & mitigation:** Learning techniques to identify and reduce bias in AI models.\\n    *   **Policy discussions:** Exploring the need for regulations and guidelines for AI development and deployment.\\n\\n**II. By Activity Type:**\\n\\n*   **Lectures & Presentations:** Learning about AI concepts, algorithms, and tools.\\n*   **Hands-on Coding Exercises:** Writing code to implement AI models and solve problems.\\n*   **Group Projects:** Working in teams to build AI applications.\\n*   **Case Studies:** Analyzing real-world AI projects to understand their challenges and successes.\\n*   **Interactive Demos:** Playing with pre-built AI models to see how they work.\\n*   **Hackathons:** Competing to build the best AI solution within a limited time.\\n*   **Panel Discussions:** Hearing from AI experts about their experiences and insights.\\n*   **Networking Sessions:** Meeting other people interested in AI.\\n*   **Q&A Sessions:** Asking questions and getting answers from instructors and experts.\\n*   **Brainstorming sessions:** Coming up with new ideas for AI applications.\\n*   **Design thinking workshops:** Applying design thinking principles to AI problem solving.\\n\\n**III. Examples of Specific Activities:**\\n\\n*   **Image Classification:** Training a model to recognize different objects in images (e.g., cats vs. dogs).\\n*   **Sentiment Analysis:** Building a model to determine the sentiment (positive, negative, neutral) of a text.\\n*   **Recommendation Systems:** Developing a system that recommends products or content to users based on their preferences.\\n*   **Chatbot Development:** Creating a chatbot that can answer questions and provide information.\\n*   **Object Detection:** Training a model to identify and locate objects in images or videos.\\n*   **Time Series Forecasting:** Building a model to predict future values based on historical data.\\n*   **Anomaly Detection:** Identifying unusual patterns in data.\\n*   **Data cleaning and preprocessing:** Handling missing values, outliers, and inconsistent data formats.\\n*   **Feature engineering:** Creating new features from existing data to improve model performance.\\n*   **Model evaluation:** Assessing the performance of a model using metrics like accuracy, precision, and recall.\\n\\n**To get the most out of an AI workshop, consider:**\\n\\n*   **Your current skill level:** Choose a workshop that matches your knowledge and experience.\\n*   **Your interests:** Pick a workshop that focuses on a specific area of AI that you're passionate about.\\n*   **The tools and technologies used:** Make sure you have access to the necessary software and hardware.\\n*   **The learning objectives:** Understand what you'll be able to do after completing the workshop.\\n*   **The instructor's experience:** Look for instructors with a strong background in AI.\\n\\n**Before attending:**\\n\\n*   **Do some preliminary research:** Learn the basic concepts of AI and machine learning.\\n*   **Install necessary software:** Make sure you have the required tools installed on your computer.\\n*   **Prepare questions:** Think about what you want to learn from the workshop.\\n\\n**During the workshop:**\\n\\n*   **Participate actively:** Ask questions, contribute to discussions, and work on the hands-on exercises.\\n*   **Take notes:** Write down key concepts and important points.\\n*   **Network with other participants:** Connect with people who share your interest in AI.\\n\\nBy participating in these activities, you can gain a deeper understanding of AI, develop practical skills, and explore the exciting possibilities of this transformative technology. Good luck!\\n\""
            ]
          },
          "execution_count": 30,
          "metadata": {},
          "output_type": "execute_result"
        }
      ],
      "source": [
        "prompt=\"What can i do in AI workshop\"\n",
        "response=client.models.generate_content(model=MODEL_ID,contents=prompt)\n",
        "response.text"
      ]
    },
    {
      "cell_type": "code",
      "execution_count": null,
      "metadata": {
        "colab": {
          "base_uri": "https://localhost:8080/",
          "height": 127
        },
        "id": "D6fVPVWoq-1S",
        "outputId": "391c4f6a-e26b-414e-995e-920f2e68fd3d"
      },
      "outputs": [
        {
          "data": {
            "application/vnd.google.colaboratory.intrinsic+json": {
              "type": "string"
            },
            "text/plain": [
              "\"Okay, to give you the BEST recommendations for weekend trips, I need a little more information! Tell me:\\n\\n**1. Where are you starting from?** (City, State, or even a general region) This is the most important factor, as a weekend trip should be relatively close.\\n\\n**2. What kind of weekend are you looking for?**  Think about your interests and travel style.  Do you prefer:\\n\\n*   **Nature & Outdoors:** Hiking, camping, beaches, mountains, national parks?\\n*   **City & Culture:** Museums, historical sites, nightlife, food scene?\\n*   **Relaxation & Spa:** Quiet towns, scenic drives, wineries, spas?\\n*   **Adventure:** Theme parks, water parks, extreme sports?\\n*   **Budget-Friendly:** Free activities, camping, affordable eats?\\n*   **Luxury:** Fine dining, high-end hotels, exclusive experiences?\\n*   **Family-Friendly:** Kid-friendly activities, zoos, parks, beaches?\\n\\n**3. What's your budget like?** (Roughly: Budget, Mid-Range, Luxury)\\n\\n**4. Who are you traveling with?** (Solo, couple, family with kids, friends)\\n\\n**In the meantime, here are some general ideas, categorized by type:**\\n\\n**General Weekend Trip Ideas (Assuming you're in the USA - adapt as needed):**\\n\\n*   **Nature/Outdoors:**\\n    *   **National Park Visit:** Great Smoky Mountains (TN/NC), Acadia (ME), Zion (UT), Rocky Mountain (CO) (Consider seasonality!)\\n    *   **Beach Getaway:** Outer Banks (NC), Gulf Shores (AL), San Diego (CA), Cape Cod (MA)\\n    *   **Mountain Escape:** Asheville (NC), Bend (OR), Lake Tahoe (CA/NV), Catskills (NY)\\n*   **City/Culture:**\\n    *   **Historic City:** Charleston (SC), Savannah (GA), Boston (MA), Philadelphia (PA)\\n    *   **Foodie Destination:** New Orleans (LA), Austin (TX), Chicago (IL), San Francisco (CA)\\n    *   **Museum Hop:** Washington, D.C., New York City (NY), Denver (CO)\\n*   **Relaxation:**\\n    *   **Wine Country:** Napa Valley (CA), Willamette Valley (OR), Finger Lakes (NY)\\n    *   **Spa Town:** Hot Springs (AR), Sedona (AZ)\\n    *   **Quaint Coastal Town:** Kennebunkport (ME), Carmel-by-the-Sea (CA)\\n\\n**Once you give me more information, I can provide much more tailored and useful recommendations!** ✈️\\n\""
            ]
          },
          "execution_count": 31,
          "metadata": {},
          "output_type": "execute_result"
        }
      ],
      "source": [
        "prompt=\"best places to visit in weekend\"\n",
        "response=client.models.generate_content(model=MODEL_ID,contents=prompt)\n",
        "response.text"
      ]
    },
    {
      "cell_type": "code",
      "execution_count": null,
      "metadata": {
        "colab": {
          "base_uri": "https://localhost:8080/"
        },
        "id": "ZrW0FXf8rDMy",
        "outputId": "3dccaf73-69ae-42ef-e110-4deaf48deb18"
      },
      "outputs": [
        {
          "name": "stdout",
          "output_type": "stream",
          "text": [
            "Okay, to give you the best recommendations, I need a little more information!  Tell me:\n",
            "\n",
            "**1. Where are you located (or willing to travel from)?**  This is the most important factor!  A weekend trip from New York City will have vastly different options than a weekend trip from Los Angeles or London.  Give me a city, state/province, or general region.\n",
            "\n",
            "**2. What's your budget?**  Are you looking for a luxurious getaway\n"
          ]
        }
      ],
      "source": [
        "from IPython.display import Markdown, display\n",
        "from google import genai\n",
        "from google.genai.types import GenerateContentConfig\n",
        "generation_config=GenerateContentConfig(temperature=0.1,max_output_tokens=100)\n",
        "prompt=\"best places to visit in weekend\"\n",
        "response=client.models.generate_content(model=MODEL_ID,contents=prompt,config=generation_config)\n",
        "print(response.text)"
      ]
    },
    {
      "cell_type": "code",
      "execution_count": null,
      "metadata": {
        "colab": {
          "base_uri": "https://localhost:8080/"
        },
        "id": "8HifpuyjrFft",
        "outputId": "9d56c4e3-02ec-4df1-a263-8b7919cf1970"
      },
      "outputs": [
        {
          "name": "stdout",
          "output_type": "stream",
          "text": [
            "Today is Wednesday, May 8th, 2024.\n",
            "\n"
          ]
        }
      ],
      "source": [
        "generation_config=GenerateContentConfig(temperature=0.1,max_output_tokens=100)\n",
        "prompt=\"what dau is it today\"\n",
        "response=client.models.generate_content(model=MODEL_ID,contents=prompt,config=generation_config)\n",
        "print(response.text)"
      ]
    },
    {
      "cell_type": "code",
      "execution_count": null,
      "metadata": {
        "colab": {
          "base_uri": "https://localhost:8080/",
          "height": 162
        },
        "id": "zLRhR0YArIkW",
        "outputId": "5e004a7b-9e68-4b0d-9a86-8bcaaded9080"
      },
      "outputs": [
        {
          "data": {
            "text/markdown": "Voici quelques bonnes idées d'endroits à visiter le week-end :\n\n*   **À la campagne :** Une randonnée, un pique-nique ou une visite dans une ferme locale peuvent être de belles façons de se ressourcer.\n*   **En ville :** Explorez les musées, les galeries d'art, les boutiques uniques et les restaurants branchés de votre ville ou d'une ville voisine.\n*   **Près de l'eau :** La plage, un lac ou une rivière offrent des possibilités de baignade, de sports nautiques, de détente et de magnifiques couchers de soleil.\n*   **Les parcs nationaux ou régionaux :** Découvrez la nature, faites de la randonnée, du camping ou simplement profitez du paysage.\n*   **Les événements locaux :** Consultez les marchés fermiers, les festivals, les concerts et autres événements spéciaux qui se déroulent près de chez vous.\n\nPour des suggestions plus personnalisées, n'hésitez pas à me dire où vous vous trouvez et ce que vous aimez faire !\n",
            "text/plain": [
              "<IPython.core.display.Markdown object>"
            ]
          },
          "metadata": {},
          "output_type": "display_data"
        }
      ],
      "source": [
        "generation_config=GenerateContentConfig(temperature=0.1,max_output_tokens=100)\n",
        "chat=client.chats.create(\n",
        "    model=MODEL_ID,\n",
        "    config=GenerateContentConfig(\n",
        "        system_instruction=[\n",
        "            \"You're a language translator.\",\n",
        "            \"Your mission is to translate text in English to French.\",\n",
        "        ]\n",
        "    ),\n",
        ")\n",
        "prompt=\"best places to visit in weekend\"\n",
        "response=chat.send_message(prompt)\n",
        "display(Markdown(response.text))"
      ]
    },
    {
      "cell_type": "code",
      "execution_count": null,
      "metadata": {
        "colab": {
          "base_uri": "https://localhost:8080/",
          "height": 70
        },
        "id": "lJAinNbarL2A",
        "outputId": "0ba739c5-41da-4f01-e2be-7c881d832fcf"
      },
      "outputs": [
        {
          "data": {
            "text/markdown": "Okay, I understand. I will analyze the sentiment of tweets and classify them as positive, neutral, or negative. \n\nReady for the next tweet! \n",
            "text/plain": [
              "<IPython.core.display.Markdown object>"
            ]
          },
          "metadata": {},
          "output_type": "display_data"
        }
      ],
      "source": [
        "prompt=\"\"\"Decide whether the tweets sentiment is positive or neutral or negative.\n",
        "Tweet:I loved the new youtube video you made\n",
        "sentimet:positive\n",
        "tweet:That was awful,super boring\n",
        "sentiment:negative\n",
        "\n",
        "\"\"\"\n",
        "response=client.models.generate_content(model=MODEL_ID,contents=prompt,config=generation_config)\n",
        "display(Markdown(response.text))"
      ]
    },
    {
      "cell_type": "code",
      "execution_count": null,
      "metadata": {
        "id": "17tMz27GrQhb"
      },
      "outputs": [],
      "source": [
        "from IPython.display import HTML, Image, Markdown, display\n",
        "from google import genai\n",
        "from google.genai.types import (\n",
        "    FunctionDeclaration,\n",
        "    GenerateContentConfig,\n",
        "    GoogleSearch,\n",
        "    HarmBlockThreshold,\n",
        "    HarmCategory,\n",
        "    Part,\n",
        "    SafetySetting,\n",
        "    ThinkingConfig,\n",
        "    Tool,\n",
        "    ToolCodeExecution,\n",
        ")"
      ]
    },
    {
      "cell_type": "code",
      "execution_count": null,
      "metadata": {
        "id": "MeH2-P1JrTsp"
      },
      "outputs": [],
      "source": [
        "MODEL_ID=\"gemini-2.5-flash\""
      ]
    },
    {
      "cell_type": "code",
      "execution_count": null,
      "metadata": {
        "colab": {
          "base_uri": "https://localhost:8080/",
          "height": 110
        },
        "id": "EiZ3wN94rYFs",
        "outputId": "6cfb1adb-d09a-4d3d-bb23-50c117ab95c9"
      },
      "outputs": [
        {
          "data": {
            "text/markdown": "Hello there! Welcome to the lab. It's great to have you here. Don't worry, everyone starts somewhere, and asking questions is how we learn and make progress.\n\nSo, you've just walked in. What's on your mind? What are you curious about today? Are you looking at a specific piece of equipment, a sample, or perhaps a concept we've been discussing?\n\nI'm ready to assist. Just tell me what your question is!",
            "text/plain": [
              "<IPython.core.display.Markdown object>"
            ]
          },
          "metadata": {},
          "output_type": "display_data"
        }
      ],
      "source": [
        "#THINKING_BUDGET=1024 # @param {type: \"integer\"}\n",
        "response=client.models.generate_content(\n",
        "    model=MODEL_ID,\n",
        "    contents=\"this is my first question,rememer that you are in lab\",\n",
        "    config=GenerateContentConfig(\n",
        "        thinking_config=ThinkingConfig(\n",
        "            thinking_budget=0,\n",
        "            )\n",
        "    ),\n",
        ")\n",
        "display(Markdown(response.text))"
      ]
    },
    {
      "cell_type": "code",
      "execution_count": null,
      "metadata": {
        "id": "aYERGp8IrZ5j"
      },
      "outputs": [],
      "source": [
        "thinking_config=ThinkingConfig(\n",
        "            thinking_budget=0)"
      ]
    },
    {
      "cell_type": "code",
      "execution_count": null,
      "metadata": {
        "id": "_QJEVr7crc10"
      },
      "outputs": [],
      "source": [
        "chat=client.chats.create(\n",
        "    model=MODEL_ID,\n",
        "    config=GenerateContentConfig(thinking_config=thinking_config),\n",
        "\n",
        "\n",
        ")"
      ]
    },
    {
      "cell_type": "code",
      "execution_count": null,
      "metadata": {
        "colab": {
          "base_uri": "https://localhost:8080/",
          "height": 70
        },
        "id": "MirRa7VZrfPt",
        "outputId": "3c5a7877-d5a1-4f47-a593-5d540a5aca47"
      },
      "outputs": [
        {
          "data": {
            "text/markdown": "Welcome to the lab!  It's great to have you here. Don't worry about it being your first question; that's exactly what this space is for – asking, exploring, and learning.\n\nSo, go ahead. What's on your mind? What's your question? I'm ready to assist.",
            "text/plain": [
              "<IPython.core.display.Markdown object>"
            ]
          },
          "metadata": {},
          "output_type": "display_data"
        }
      ],
      "source": [
        "response=chat.send_message(\"this is my first question,rememer that you are in lab\")\n",
        "display(Markdown(response.text))"
      ]
    },
    {
      "cell_type": "code",
      "execution_count": null,
      "metadata": {
        "colab": {
          "base_uri": "https://localhost:8080/",
          "height": 93
        },
        "id": "1mhuqjpvrmQk",
        "outputId": "1ee7756a-e443-4da8-ab6b-6e4a33620bd6"
      },
      "outputs": [
        {
          "data": {
            "text/markdown": "Good afternoon!\n\nUnderstood. I'll remember that we've started with a \"Good afternoon.\"\n\nNow, what's your question? I'm ready to listen.",
            "text/plain": [
              "<IPython.core.display.Markdown object>"
            ]
          },
          "metadata": {},
          "output_type": "display_data"
        }
      ],
      "source": [
        "response=chat.send_message(\"remember what i say ,first i am telling good afternoon\")\n",
        "display(Markdown(response.text))"
      ]
    },
    {
      "cell_type": "code",
      "execution_count": null,
      "metadata": {
        "colab": {
          "base_uri": "https://localhost:8080/",
          "height": 46
        },
        "id": "ljXH8JhdroS6",
        "outputId": "8316a84f-3264-420b-d606-e7b4a18ae7f7"
      },
      "outputs": [
        {
          "data": {
            "text/markdown": "You said \"Good afternoon.\"",
            "text/plain": [
              "<IPython.core.display.Markdown object>"
            ]
          },
          "metadata": {},
          "output_type": "display_data"
        }
      ],
      "source": [
        "response=chat.send_message(\"what did i say first\")\n",
        "display(Markdown(response.text))"
      ]
    },
    {
      "cell_type": "code",
      "execution_count": null,
      "metadata": {
        "colab": {
          "base_uri": "https://localhost:8080/",
          "height": 70
        },
        "id": "j1iQXhZhrrnV",
        "outputId": "2741fe31-753f-4d6d-ea08-c17bd74764a0"
      },
      "outputs": [
        {
          "data": {
            "text/markdown": "Understood. You're telling me that this afternoon, you covered the memory part of Gemini.\n\nThank you for that information. What's next? Is there a question related to that, or something else you'd like to discuss?",
            "text/plain": [
              "<IPython.core.display.Markdown object>"
            ]
          },
          "metadata": {},
          "output_type": "display_data"
        }
      ],
      "source": [
        "response=chat.send_message(\"in the afternoon i did cover the memory part of gemini\")\n",
        "display(Markdown(response.text))"
      ]
    },
    {
      "cell_type": "code",
      "execution_count": null,
      "metadata": {
        "colab": {
          "base_uri": "https://localhost:8080/"
        },
        "id": "g-0GyJtdruSA",
        "outputId": "95c5351a-7aa7-45b9-c00d-00aafcd36a15"
      },
      "outputs": [
        {
          "data": {
            "text/plain": [
              "[UserContent(\n",
              "   parts=[\n",
              "     Part(\n",
              "       text='this is my first question,rememer that you are in lab'\n",
              "     ),\n",
              "   ],\n",
              "   role='user'\n",
              " ),\n",
              " Content(\n",
              "   parts=[\n",
              "     Part(\n",
              "       text=\"\"\"Welcome to the lab!  It's great to have you here. Don't worry about it being your first question; that's exactly what this space is for – asking, exploring, and learning.\n",
              " \n",
              " So, go ahead. What's on your mind? What's your question? I'm ready to assist.\"\"\"\n",
              "     ),\n",
              "   ],\n",
              "   role='model'\n",
              " ),\n",
              " UserContent(\n",
              "   parts=[\n",
              "     Part(\n",
              "       text='remember what i say ,first i am telling good afternoon'\n",
              "     ),\n",
              "   ],\n",
              "   role='user'\n",
              " ),\n",
              " Content(\n",
              "   parts=[\n",
              "     Part(\n",
              "       text=\"\"\"Good afternoon!\n",
              " \n",
              " Understood. I'll remember that we've started with a \"Good afternoon.\"\n",
              " \n",
              " Now, what's your question? I'm ready to listen.\"\"\"\n",
              "     ),\n",
              "   ],\n",
              "   role='model'\n",
              " ),\n",
              " UserContent(\n",
              "   parts=[\n",
              "     Part(\n",
              "       text='what did i say first'\n",
              "     ),\n",
              "   ],\n",
              "   role='user'\n",
              " ),\n",
              " Content(\n",
              "   parts=[\n",
              "     Part(\n",
              "       text='You said \"Good afternoon.\"'\n",
              "     ),\n",
              "   ],\n",
              "   role='model'\n",
              " ),\n",
              " UserContent(\n",
              "   parts=[\n",
              "     Part(\n",
              "       text='in the afternoon i did cover the memory part of gemini'\n",
              "     ),\n",
              "   ],\n",
              "   role='user'\n",
              " ),\n",
              " Content(\n",
              "   parts=[\n",
              "     Part(\n",
              "       text=\"\"\"Understood. You're telling me that this afternoon, you covered the memory part of Gemini.\n",
              " \n",
              " Thank you for that information. What's next? Is there a question related to that, or something else you'd like to discuss?\"\"\"\n",
              "     ),\n",
              "   ],\n",
              "   role='model'\n",
              " )]"
            ]
          },
          "execution_count": 45,
          "metadata": {},
          "output_type": "execute_result"
        }
      ],
      "source": [
        "chat.get_history(0)"
      ]
    },
    {
      "cell_type": "code",
      "execution_count": null,
      "metadata": {
        "colab": {
          "base_uri": "https://localhost:8080/",
          "height": 64
        },
        "id": "dQHHKEXNrwqY",
        "outputId": "1feb843a-363e-4c11-8b07-297dee663826"
      },
      "outputs": [
        {
          "data": {
            "text/markdown": "Dr. Antony P.J. is the Head of Department (HOD) for Computer Science and Engineering (CSE) at A.J. Institute of Engineering & Technology (AJIET). He also holds the position of Vice Principal and Professor at the institution.",
            "text/plain": [
              "<IPython.core.display.Markdown object>"
            ]
          },
          "metadata": {},
          "output_type": "display_data"
        }
      ],
      "source": [
        "google_search_tool=Tool(google_search=GoogleSearch)\n",
        "response=client.models.generate_content(\n",
        "model=MODEL_ID,\n",
        "    contents=\"who is the hod of cse at ajiet\",\n",
        "    config=GenerateContentConfig(tools=[google_search_tool]),\n",
        "\n",
        "    )\n",
        "display(Markdown(response.text))"
      ]
    },
    {
      "cell_type": "code",
      "execution_count": null,
      "metadata": {
        "colab": {
          "base_uri": "https://localhost:8080/",
          "height": 81
        },
        "id": "tOIEmqidryxK",
        "outputId": "035c8984-b846-4418-917f-3eeef0a62c8d"
      },
      "outputs": [
        {
          "data": {
            "text/markdown": "Dr. John Prakash Veigas is the Head of Department (HOD) for Information Science and Engineering (ISE) at AJ Institute of Engineering & Technology (AJIET). He also holds the title of Professor.Dr. John Prakash Veigas is the Head of Department (HOD) for Information Science and Engineering (ISE) at AJ Institute of Engineering & Technology (AJIET).",
            "text/plain": [
              "<IPython.core.display.Markdown object>"
            ]
          },
          "metadata": {},
          "output_type": "display_data"
        }
      ],
      "source": [
        "google_search_tool=Tool(google_search=GoogleSearch)\n",
        "response=client.models.generate_content(\n",
        "model=MODEL_ID,\n",
        "    contents=\"who is the hod of ise at ajiet\",\n",
        "    config=GenerateContentConfig(tools=[google_search_tool]),\n",
        "\n",
        "    )\n",
        "display(Markdown(response.text))"
      ]
    },
    {
      "cell_type": "code",
      "execution_count": null,
      "metadata": {
        "colab": {
          "base_uri": "https://localhost:8080/",
          "height": 110
        },
        "id": "Ae0qGv4Ur4Fe",
        "outputId": "5dd51f13-66a0-4298-b22b-910c4ce2e41e"
      },
      "outputs": [
        {
          "data": {
            "text/markdown": "As of August 6, 2025, the stock value of State Bank of India (SBI) varies slightly depending on the exchange:\n\n*   On the NSE (National Stock Exchange), SBI's share price is ₹802.25, ₹809.90, ₹806.50, ₹805.75, ₹804.25, or ₹800.5.\n*   On the BSE (Bombay Stock Exchange), SBI's share price is ₹802.25.\n\nThe stock opened at ₹800.95 today, with a previous close of ₹800.60. It reached a high of ₹810.20 and a low of ₹799.00 during today's trading session.",
            "text/plain": [
              "<IPython.core.display.Markdown object>"
            ]
          },
          "metadata": {},
          "output_type": "display_data"
        }
      ],
      "source": [
        "google_search_tool=Tool(google_search=GoogleSearch)\n",
        "response=client.models.generate_content(\n",
        "model=MODEL_ID,\n",
        "    contents=\"what is the stock value of sbi today\",\n",
        "    config=GenerateContentConfig(tools=[google_search_tool]),\n",
        "\n",
        "    )\n",
        "display(Markdown(response.text))"
      ]
    },
    {
      "cell_type": "code",
      "execution_count": null,
      "metadata": {
        "colab": {
          "base_uri": "https://localhost:8080/",
          "height": 1000
        },
        "id": "k1S4zI-Jr76G",
        "outputId": "3b82d210-09fd-4b97-8d05-4822a860b017"
      },
      "outputs": [
        {
          "data": {
            "text/markdown": "As of Wednesday, August 6, 2025, the State Bank of India (SBI) stock value shows slight variations across different reports.\n\nAccording to ICICI Direct, the State Bank of India share price as on August 5, 2025, was Rs. 800.5. Investing.com reports the State Bank of India stock price today as 809.90. Screener shows the current price at Rs. 805. The Economic Times states SBI share price is Rs 806.50 as on August 6, 2025, 01:00 PM IST. Angel One also reports State Bank Of India (SBIN) share price as of August 6, 2025, on NSE and BSE at Rs 802.25.",
            "text/plain": [
              "<IPython.core.display.Markdown object>"
            ]
          },
          "metadata": {},
          "output_type": "display_data"
        },
        {
          "name": "stdout",
          "output_type": "stream",
          "text": [
            "grounding_chunks=[GroundingChunk(\n",
            "  web=GroundingChunkWeb(\n",
            "    title='icicidirect.com',\n",
            "    uri='https://vertexaisearch.cloud.google.com/grounding-api-redirect/AUZIYQFWvKrfTrjqyqPFq-Bs5g2OdeAUMgYNKh820cYvUEGy7vfwqTRzpBjo1_dfGTPWMRNaYhjvwq11VxNQ1qj5yUot1dZS94XrD2cWZCDbQ5Z23b6dcN00p_c5Sn2MrrSKx37GKzhFJmUd5z9tA5FOCDy1XHA3ZN5ZgMwUdmGwtw=='\n",
            "  )\n",
            "), GroundingChunk(\n",
            "  web=GroundingChunkWeb(\n",
            "    title='investing.com',\n",
            "    uri='https://vertexaisearch.cloud.google.com/grounding-api-redirect/AUZIYQEa89iNGgeiyvu_2HAd-piMHWznbJU0ebo7Ds6aEdZxrD6FJvKG1VCSTjIJ5ehlA3Ge3eBbKiP_b7oxPAjCgc04s9eIAQggJLOkRjWatsEEqQ9JehzkLSwSVopph7hwiakTErFI58Qex-YNw6b3OVbBKA=='\n",
            "  )\n",
            "), GroundingChunk(\n",
            "  web=GroundingChunkWeb(\n",
            "    title='screener.in',\n",
            "    uri='https://vertexaisearch.cloud.google.com/grounding-api-redirect/AUZIYQHWV4_RczDO7w-hJyFHEqfEYB754MM0wmcML_Czv69oc-mC81wfBEzR2nJfDJ1p4v5tH-3fIg0qeWCdfVV_bfXMIxWDoEUBzlrDQq8AqvHE-3tOWSEAqY9qPv2nGsSlZkMblLhBIDLVQ-hsOz6O'\n",
            "  )\n",
            "), GroundingChunk(\n",
            "  web=GroundingChunkWeb(\n",
            "    title='indiatimes.com',\n",
            "    uri='https://vertexaisearch.cloud.google.com/grounding-api-redirect/AUZIYQF3gcVRCr7ntaRDaj8aydy80pgB2b5VK6gYSHONferJOtcse2TB5LE_XWDcU_HqqdLmFJ3onTSqSpBTLKTJ8TjB3IBzH87WXxC-Nu0jWc1gSlnsQbwKHjoYyQBfRXqerdGCD2SQVv7ascwlwAY1Pe_ZdwwSSjHxugYdRPbpV7rZTmtgzzC35A1cnRzVFirT'\n",
            "  )\n",
            "), GroundingChunk(\n",
            "  web=GroundingChunkWeb(\n",
            "    title='angelone.in',\n",
            "    uri='https://vertexaisearch.cloud.google.com/grounding-api-redirect/AUZIYQHsSUL1AlfshIJwyJfw-XQsZLw7xgYeW4-e5hRcrPYtFXZgexmHRN-TLptTj7NJH707Vq7gFDId-Uxmiu2K7LZFcERIuFoZLQKulmihz0QYXnobSMRjIZgSTBjS_nmIlEiNZt_tm2Y-tbY14-Dl'\n",
            "  )\n",
            ")] grounding_supports=[GroundingSupport(\n",
            "  grounding_chunk_indices=[\n",
            "    0,\n",
            "  ],\n",
            "  segment=Segment(\n",
            "    end_index=224,\n",
            "    start_index=219,\n",
            "    text='800.5'\n",
            "  )\n",
            "), GroundingSupport(\n",
            "  grounding_chunk_indices=[\n",
            "    1,\n",
            "  ],\n",
            "  segment=Segment(\n",
            "    end_index=299,\n",
            "    start_index=226,\n",
            "    text='Investing.com reports the State Bank of India stock price today as 809.90'\n",
            "  )\n",
            "), GroundingSupport(\n",
            "  grounding_chunk_indices=[\n",
            "    2,\n",
            "  ],\n",
            "  segment=Segment(\n",
            "    end_index=344,\n",
            "    start_index=341,\n",
            "    text='805'\n",
            "  )\n",
            "), GroundingSupport(\n",
            "  grounding_chunk_indices=[\n",
            "    3,\n",
            "  ],\n",
            "  segment=Segment(\n",
            "    end_index=435,\n",
            "    start_index=346,\n",
            "    text='The Economic Times states SBI share price is Rs 806.50 as on August 6, 2025, 01:00 PM IST'\n",
            "  )\n",
            "), GroundingSupport(\n",
            "  grounding_chunk_indices=[\n",
            "    4,\n",
            "  ],\n",
            "  segment=Segment(\n",
            "    end_index=548,\n",
            "    start_index=437,\n",
            "    text='Angel One also reports State Bank Of India (SBIN) share price as of August 6, 2025, on NSE and BSE at Rs 802.25'\n",
            "  )\n",
            ")] retrieval_metadata=None retrieval_queries=None search_entry_point=SearchEntryPoint(\n",
            "  rendered_content=\"\"\"<style>\n",
            ".container {\n",
            "  align-items: center;\n",
            "  border-radius: 8px;\n",
            "  display: flex;\n",
            "  font-family: Google Sans, Roboto, sans-serif;\n",
            "  font-size: 14px;\n",
            "  line-height: 20px;\n",
            "  padding: 8px 12px;\n",
            "}\n",
            ".chip {\n",
            "  display: inline-block;\n",
            "  border: solid 1px;\n",
            "  border-radius: 16px;\n",
            "  min-width: 14px;\n",
            "  padding: 5px 16px;\n",
            "  text-align: center;\n",
            "  user-select: none;\n",
            "  margin: 0 8px;\n",
            "  -webkit-tap-highlight-color: transparent;\n",
            "}\n",
            ".carousel {\n",
            "  overflow: auto;\n",
            "  scrollbar-width: none;\n",
            "  white-space: nowrap;\n",
            "  margin-right: -12px;\n",
            "}\n",
            ".headline {\n",
            "  display: flex;\n",
            "  margin-right: 4px;\n",
            "}\n",
            ".gradient-container {\n",
            "  position: relative;\n",
            "}\n",
            ".gradient {\n",
            "  position: absolute;\n",
            "  transform: translate(3px, -9px);\n",
            "  height: 36px;\n",
            "  width: 9px;\n",
            "}\n",
            "@media (prefers-color-scheme: light) {\n",
            "  .container {\n",
            "    background-color: #fafafa;\n",
            "    box-shadow: 0 0 0 1px #0000000f;\n",
            "  }\n",
            "  .headline-label {\n",
            "    color: #1f1f1f;\n",
            "  }\n",
            "  .chip {\n",
            "    background-color: #ffffff;\n",
            "    border-color: #d2d2d2;\n",
            "    color: #5e5e5e;\n",
            "    text-decoration: none;\n",
            "  }\n",
            "  .chip:hover {\n",
            "    background-color: #f2f2f2;\n",
            "  }\n",
            "  .chip:focus {\n",
            "    background-color: #f2f2f2;\n",
            "  }\n",
            "  .chip:active {\n",
            "    background-color: #d8d8d8;\n",
            "    border-color: #b6b6b6;\n",
            "  }\n",
            "  .logo-dark {\n",
            "    display: none;\n",
            "  }\n",
            "  .gradient {\n",
            "    background: linear-gradient(90deg, #fafafa 15%, #fafafa00 100%);\n",
            "  }\n",
            "}\n",
            "@media (prefers-color-scheme: dark) {\n",
            "  .container {\n",
            "    background-color: #1f1f1f;\n",
            "    box-shadow: 0 0 0 1px #ffffff26;\n",
            "  }\n",
            "  .headline-label {\n",
            "    color: #fff;\n",
            "  }\n",
            "  .chip {\n",
            "    background-color: #2c2c2c;\n",
            "    border-color: #3c4043;\n",
            "    color: #fff;\n",
            "    text-decoration: none;\n",
            "  }\n",
            "  .chip:hover {\n",
            "    background-color: #353536;\n",
            "  }\n",
            "  .chip:focus {\n",
            "    background-color: #353536;\n",
            "  }\n",
            "  .chip:active {\n",
            "    background-color: #464849;\n",
            "    border-color: #53575b;\n",
            "  }\n",
            "  .logo-light {\n",
            "    display: none;\n",
            "  }\n",
            "  .gradient {\n",
            "    background: linear-gradient(90deg, #1f1f1f 15%, #1f1f1f00 100%);\n",
            "  }\n",
            "}\n",
            "</style>\n",
            "<div class=\"container\">\n",
            "  <div class=\"headline\">\n",
            "    <svg class=\"logo-light\" width=\"18\" height=\"18\" viewBox=\"9 9 35 35\" fill=\"none\" xmlns=\"http://www.w3.org/2000/svg\">\n",
            "      <path fill-rule=\"evenodd\" clip-rule=\"evenodd\" d=\"M42.8622 27.0064C42.8622 25.7839 42.7525 24.6084 42.5487 23.4799H26.3109V30.1568H35.5897C35.1821 32.3041 33.9596 34.1222 32.1258 35.3448V39.6864H37.7213C40.9814 36.677 42.8622 32.2571 42.8622 27.0064V27.0064Z\" fill=\"#4285F4\"/>\n",
            "      <path fill-rule=\"evenodd\" clip-rule=\"evenodd\" d=\"M26.3109 43.8555C30.9659 43.8555 34.8687 42.3195 37.7213 39.6863L32.1258 35.3447C30.5898 36.3792 28.6306 37.0061 26.3109 37.0061C21.8282 37.0061 18.0195 33.9811 16.6559 29.906H10.9194V34.3573C13.7563 39.9841 19.5712 43.8555 26.3109 43.8555V43.8555Z\" fill=\"#34A853\"/>\n",
            "      <path fill-rule=\"evenodd\" clip-rule=\"evenodd\" d=\"M16.6559 29.8904C16.3111 28.8559 16.1074 27.7588 16.1074 26.6146C16.1074 25.4704 16.3111 24.3733 16.6559 23.3388V18.8875H10.9194C9.74388 21.2072 9.06992 23.8247 9.06992 26.6146C9.06992 29.4045 9.74388 32.022 10.9194 34.3417L15.3864 30.8621L16.6559 29.8904V29.8904Z\" fill=\"#FBBC05\"/>\n",
            "      <path fill-rule=\"evenodd\" clip-rule=\"evenodd\" d=\"M26.3109 16.2386C28.85 16.2386 31.107 17.1164 32.9095 18.8091L37.8466 13.8719C34.853 11.082 30.9659 9.3736 26.3109 9.3736C19.5712 9.3736 13.7563 13.245 10.9194 18.8875L16.6559 23.3388C18.0195 19.2636 21.8282 16.2386 26.3109 16.2386V16.2386Z\" fill=\"#EA4335\"/>\n",
            "    </svg>\n",
            "    <svg class=\"logo-dark\" width=\"18\" height=\"18\" viewBox=\"0 0 48 48\" xmlns=\"http://www.w3.org/2000/svg\">\n",
            "      <circle cx=\"24\" cy=\"23\" fill=\"#FFF\" r=\"22\"/>\n",
            "      <path d=\"M33.76 34.26c2.75-2.56 4.49-6.37 4.49-11.26 0-.89-.08-1.84-.29-3H24.01v5.99h8.03c-.4 2.02-1.5 3.56-3.07 4.56v.75l3.91 2.97h.88z\" fill=\"#4285F4\"/>\n",
            "      <path d=\"M15.58 25.77A8.845 8.845 0 0 0 24 31.86c1.92 0 3.62-.46 4.97-1.31l4.79 3.71C31.14 36.7 27.65 38 24 38c-5.93 0-11.01-3.4-13.45-8.36l.17-1.01 4.06-2.85h.8z\" fill=\"#34A853\"/>\n",
            "      <path d=\"M15.59 20.21a8.864 8.864 0 0 0 0 5.58l-5.03 3.86c-.98-2-1.53-4.25-1.53-6.64 0-2.39.55-4.64 1.53-6.64l1-.22 3.81 2.98.22 1.08z\" fill=\"#FBBC05\"/>\n",
            "      <path d=\"M24 14.14c2.11 0 4.02.75 5.52 1.98l4.36-4.36C31.22 9.43 27.81 8 24 8c-5.93 0-11.01 3.4-13.45 8.36l5.03 3.85A8.86 8.86 0 0 1 24 14.14z\" fill=\"#EA4335\"/>\n",
            "    </svg>\n",
            "    <div class=\"gradient-container\"><div class=\"gradient\"></div></div>\n",
            "  </div>\n",
            "  <div class=\"carousel\">\n",
            "    <a class=\"chip\" href=\"https://vertexaisearch.cloud.google.com/grounding-api-redirect/AUZIYQH_ALRrdWoZWBUNTSgmMqAELTTR-FuICN4ddmiIel19i959zqlyNlcaCT9l781v0SHziJBFjUhJz48btgnHZsEf9dktBd-ulwiwkNxtAi0_FWBLctRXykcF7oKvHGgtHTG49IXPgKHNzc7a9-P-qCr083-naJW-GlvwCdadMIwN7DehtxV0W04Rnzedr9xNVIwqqTIKGpS-Bw==\">SBI stock value today</a>\n",
            "    <a class=\"chip\" href=\"https://vertexaisearch.cloud.google.com/grounding-api-redirect/AUZIYQHJId50DNUbWapjU3Mu_CFS7QIeR9U38ENz3TzaaXEzGoQlEobU-lGwe_wGtXppTNSBPDhAZXjbKNBYipyVNAWyNPplGbNCu_Jj8zz_8tbiFi9jXPZoPt8h0buH7jHUk-sH0028dRHhEauLEnSxfiBjx0pxWWGQhtX6r9huO_calNH9-eKqmfr-PrarVAurZg==\">current date</a>\n",
            "  </div>\n",
            "</div>\n",
            "\"\"\"\n",
            ") web_search_queries=['current date', 'SBI stock value today']\n"
          ]
        },
        {
          "data": {
            "text/html": [
              "<style>\n",
              ".container {\n",
              "  align-items: center;\n",
              "  border-radius: 8px;\n",
              "  display: flex;\n",
              "  font-family: Google Sans, Roboto, sans-serif;\n",
              "  font-size: 14px;\n",
              "  line-height: 20px;\n",
              "  padding: 8px 12px;\n",
              "}\n",
              ".chip {\n",
              "  display: inline-block;\n",
              "  border: solid 1px;\n",
              "  border-radius: 16px;\n",
              "  min-width: 14px;\n",
              "  padding: 5px 16px;\n",
              "  text-align: center;\n",
              "  user-select: none;\n",
              "  margin: 0 8px;\n",
              "  -webkit-tap-highlight-color: transparent;\n",
              "}\n",
              ".carousel {\n",
              "  overflow: auto;\n",
              "  scrollbar-width: none;\n",
              "  white-space: nowrap;\n",
              "  margin-right: -12px;\n",
              "}\n",
              ".headline {\n",
              "  display: flex;\n",
              "  margin-right: 4px;\n",
              "}\n",
              ".gradient-container {\n",
              "  position: relative;\n",
              "}\n",
              ".gradient {\n",
              "  position: absolute;\n",
              "  transform: translate(3px, -9px);\n",
              "  height: 36px;\n",
              "  width: 9px;\n",
              "}\n",
              "@media (prefers-color-scheme: light) {\n",
              "  .container {\n",
              "    background-color: #fafafa;\n",
              "    box-shadow: 0 0 0 1px #0000000f;\n",
              "  }\n",
              "  .headline-label {\n",
              "    color: #1f1f1f;\n",
              "  }\n",
              "  .chip {\n",
              "    background-color: #ffffff;\n",
              "    border-color: #d2d2d2;\n",
              "    color: #5e5e5e;\n",
              "    text-decoration: none;\n",
              "  }\n",
              "  .chip:hover {\n",
              "    background-color: #f2f2f2;\n",
              "  }\n",
              "  .chip:focus {\n",
              "    background-color: #f2f2f2;\n",
              "  }\n",
              "  .chip:active {\n",
              "    background-color: #d8d8d8;\n",
              "    border-color: #b6b6b6;\n",
              "  }\n",
              "  .logo-dark {\n",
              "    display: none;\n",
              "  }\n",
              "  .gradient {\n",
              "    background: linear-gradient(90deg, #fafafa 15%, #fafafa00 100%);\n",
              "  }\n",
              "}\n",
              "@media (prefers-color-scheme: dark) {\n",
              "  .container {\n",
              "    background-color: #1f1f1f;\n",
              "    box-shadow: 0 0 0 1px #ffffff26;\n",
              "  }\n",
              "  .headline-label {\n",
              "    color: #fff;\n",
              "  }\n",
              "  .chip {\n",
              "    background-color: #2c2c2c;\n",
              "    border-color: #3c4043;\n",
              "    color: #fff;\n",
              "    text-decoration: none;\n",
              "  }\n",
              "  .chip:hover {\n",
              "    background-color: #353536;\n",
              "  }\n",
              "  .chip:focus {\n",
              "    background-color: #353536;\n",
              "  }\n",
              "  .chip:active {\n",
              "    background-color: #464849;\n",
              "    border-color: #53575b;\n",
              "  }\n",
              "  .logo-light {\n",
              "    display: none;\n",
              "  }\n",
              "  .gradient {\n",
              "    background: linear-gradient(90deg, #1f1f1f 15%, #1f1f1f00 100%);\n",
              "  }\n",
              "}\n",
              "</style>\n",
              "<div class=\"container\">\n",
              "  <div class=\"headline\">\n",
              "    <svg class=\"logo-light\" width=\"18\" height=\"18\" viewBox=\"9 9 35 35\" fill=\"none\" xmlns=\"http://www.w3.org/2000/svg\">\n",
              "      <path fill-rule=\"evenodd\" clip-rule=\"evenodd\" d=\"M42.8622 27.0064C42.8622 25.7839 42.7525 24.6084 42.5487 23.4799H26.3109V30.1568H35.5897C35.1821 32.3041 33.9596 34.1222 32.1258 35.3448V39.6864H37.7213C40.9814 36.677 42.8622 32.2571 42.8622 27.0064V27.0064Z\" fill=\"#4285F4\"/>\n",
              "      <path fill-rule=\"evenodd\" clip-rule=\"evenodd\" d=\"M26.3109 43.8555C30.9659 43.8555 34.8687 42.3195 37.7213 39.6863L32.1258 35.3447C30.5898 36.3792 28.6306 37.0061 26.3109 37.0061C21.8282 37.0061 18.0195 33.9811 16.6559 29.906H10.9194V34.3573C13.7563 39.9841 19.5712 43.8555 26.3109 43.8555V43.8555Z\" fill=\"#34A853\"/>\n",
              "      <path fill-rule=\"evenodd\" clip-rule=\"evenodd\" d=\"M16.6559 29.8904C16.3111 28.8559 16.1074 27.7588 16.1074 26.6146C16.1074 25.4704 16.3111 24.3733 16.6559 23.3388V18.8875H10.9194C9.74388 21.2072 9.06992 23.8247 9.06992 26.6146C9.06992 29.4045 9.74388 32.022 10.9194 34.3417L15.3864 30.8621L16.6559 29.8904V29.8904Z\" fill=\"#FBBC05\"/>\n",
              "      <path fill-rule=\"evenodd\" clip-rule=\"evenodd\" d=\"M26.3109 16.2386C28.85 16.2386 31.107 17.1164 32.9095 18.8091L37.8466 13.8719C34.853 11.082 30.9659 9.3736 26.3109 9.3736C19.5712 9.3736 13.7563 13.245 10.9194 18.8875L16.6559 23.3388C18.0195 19.2636 21.8282 16.2386 26.3109 16.2386V16.2386Z\" fill=\"#EA4335\"/>\n",
              "    </svg>\n",
              "    <svg class=\"logo-dark\" width=\"18\" height=\"18\" viewBox=\"0 0 48 48\" xmlns=\"http://www.w3.org/2000/svg\">\n",
              "      <circle cx=\"24\" cy=\"23\" fill=\"#FFF\" r=\"22\"/>\n",
              "      <path d=\"M33.76 34.26c2.75-2.56 4.49-6.37 4.49-11.26 0-.89-.08-1.84-.29-3H24.01v5.99h8.03c-.4 2.02-1.5 3.56-3.07 4.56v.75l3.91 2.97h.88z\" fill=\"#4285F4\"/>\n",
              "      <path d=\"M15.58 25.77A8.845 8.845 0 0 0 24 31.86c1.92 0 3.62-.46 4.97-1.31l4.79 3.71C31.14 36.7 27.65 38 24 38c-5.93 0-11.01-3.4-13.45-8.36l.17-1.01 4.06-2.85h.8z\" fill=\"#34A853\"/>\n",
              "      <path d=\"M15.59 20.21a8.864 8.864 0 0 0 0 5.58l-5.03 3.86c-.98-2-1.53-4.25-1.53-6.64 0-2.39.55-4.64 1.53-6.64l1-.22 3.81 2.98.22 1.08z\" fill=\"#FBBC05\"/>\n",
              "      <path d=\"M24 14.14c2.11 0 4.02.75 5.52 1.98l4.36-4.36C31.22 9.43 27.81 8 24 8c-5.93 0-11.01 3.4-13.45 8.36l5.03 3.85A8.86 8.86 0 0 1 24 14.14z\" fill=\"#EA4335\"/>\n",
              "    </svg>\n",
              "    <div class=\"gradient-container\"><div class=\"gradient\"></div></div>\n",
              "  </div>\n",
              "  <div class=\"carousel\">\n",
              "    <a class=\"chip\" href=\"https://vertexaisearch.cloud.google.com/grounding-api-redirect/AUZIYQH_ALRrdWoZWBUNTSgmMqAELTTR-FuICN4ddmiIel19i959zqlyNlcaCT9l781v0SHziJBFjUhJz48btgnHZsEf9dktBd-ulwiwkNxtAi0_FWBLctRXykcF7oKvHGgtHTG49IXPgKHNzc7a9-P-qCr083-naJW-GlvwCdadMIwN7DehtxV0W04Rnzedr9xNVIwqqTIKGpS-Bw==\">SBI stock value today</a>\n",
              "    <a class=\"chip\" href=\"https://vertexaisearch.cloud.google.com/grounding-api-redirect/AUZIYQHJId50DNUbWapjU3Mu_CFS7QIeR9U38ENz3TzaaXEzGoQlEobU-lGwe_wGtXppTNSBPDhAZXjbKNBYipyVNAWyNPplGbNCu_Jj8zz_8tbiFi9jXPZoPt8h0buH7jHUk-sH0028dRHhEauLEnSxfiBjx0pxWWGQhtX6r9huO_calNH9-eKqmfr-PrarVAurZg==\">current date</a>\n",
              "  </div>\n",
              "</div>\n"
            ],
            "text/plain": [
              "<IPython.core.display.HTML object>"
            ]
          },
          "execution_count": 49,
          "metadata": {},
          "output_type": "execute_result"
        }
      ],
      "source": [
        "google_search_tool= Tool(google_search=GoogleSearch)\n",
        "response=client.models.generate_content(\n",
        "    model=MODEL_ID,\n",
        "    contents=\"sbi stock value today and todays date\",\n",
        "    config=GenerateContentConfig(\n",
        "        tools=[google_search_tool]\n",
        "    )\n",
        ")\n",
        "display(Markdown(response.text))\n",
        "print (response.candidates[0].grounding_metadata)\n",
        "HTML(response.candidates[0].grounding_metadata.search_entry_point.rendered_content)"
      ]
    },
    {
      "cell_type": "code",
      "execution_count": 1,
      "metadata": {
        "id": "ABo8EyBJsAUf"
      },
      "outputs": [],
      "source": [
        "!pip install -q google-generativeai gradio pillow"
      ]
    },
    {
      "cell_type": "code",
      "execution_count": 2,
      "metadata": {
        "id": "I1ca4r2psHyR"
      },
      "outputs": [],
      "source": [
        "from IPython.display import HTML, Image, Markdown, display\n",
        "from google import genai\n",
        "from google.genai.types import (\n",
        "    FunctionDeclaration,\n",
        "    GenerateContentConfig,\n",
        "    GoogleSearch,\n",
        "    HarmBlockThreshold,\n",
        "    HarmCategory,\n",
        "    Part,\n",
        "    SafetySetting,\n",
        "    ThinkingConfig,\n",
        "    Tool,\n",
        "    ToolCodeExecution,\n",
        "    Content,\n",
        "    Part\n",
        ")"
      ]
    },
    {
      "cell_type": "code",
      "execution_count": 3,
      "metadata": {
        "id": "Mo5FZligsKgt"
      },
      "outputs": [],
      "source": [
        "from google.colab import userdata\n",
        "from google import genai\n",
        "\n",
        "\n",
        "\n",
        "GOOGLE_API_KEY = userdata.get('GOOGLE_API_KEY')\n",
        "client = genai.Client(api_key=GOOGLE_API_KEY)"
      ]
    },
    {
      "cell_type": "code",
      "execution_count": 4,
      "metadata": {
        "id": "KqET5M65sNEj"
      },
      "outputs": [],
      "source": [
        "import gradio as gr"
      ]
    },
    {
      "cell_type": "code",
      "execution_count": null,
      "metadata": {
        "colab": {
          "background_save": true,
          "base_uri": "https://localhost:8080/",
          "height": 646
        },
        "id": "oNOHSOaqsPO-",
        "outputId": "26e2634c-98b7-401f-e7cf-c3fbbf0bacc2"
      },
      "outputs": [
        {
          "output_type": "stream",
          "name": "stderr",
          "text": [
            "/usr/local/lib/python3.11/dist-packages/gradio/chat_interface.py:345: UserWarning: The 'tuples' format for chatbot messages is deprecated and will be removed in a future version of Gradio. Please set type='messages' instead, which uses openai-style 'role' and 'content' keys.\n",
            "  self.chatbot = Chatbot(\n"
          ]
        },
        {
          "output_type": "stream",
          "name": "stdout",
          "text": [
            "Colab notebook detected. This cell will run indefinitely so that you can see errors and logs. To turn off, set debug=False in launch().\n",
            "* Running on public URL: https://397f8ac17c13187174.gradio.live\n",
            "\n",
            "This share link expires in 1 week. For free permanent hosting and GPU upgrades, run `gradio deploy` from the terminal in the working directory to deploy to Hugging Face Spaces (https://huggingface.co/spaces)\n"
          ]
        },
        {
          "output_type": "display_data",
          "data": {
            "text/plain": [
              "<IPython.core.display.HTML object>"
            ],
            "text/html": [
              "<div><iframe src=\"https://397f8ac17c13187174.gradio.live\" width=\"100%\" height=\"500\" allow=\"autoplay; camera; microphone; clipboard-read; clipboard-write;\" frameborder=\"0\" allowfullscreen></iframe></div>"
            ]
          },
          "metadata": {}
        }
      ],
      "source": [
        "from logging import debug\n",
        "import gradio as gr\n",
        "from google.colab import userdata\n",
        "from google import genai\n",
        "from google.genai.types import(\n",
        "    Tool,GoogleSearch,GenerateContentConfig,Content,Part\n",
        ")\n",
        "\n",
        "#import the model\n",
        "MODEL_ID=\"gemini-2.0-flash\"\n",
        "\n",
        "#set the tool\n",
        "google_search_tool=Tool(google_search=GoogleSearch())\n",
        "system_instruction=\"\"\"You are Ajiet Bot, the friendly and knowledgeable virtual assistant for the A.J. Institute of Engineering and Technology (AJIET) help desk. Your primary purpose is to provide accurate and helpful information about the institution, its programs, facilities, and general processes to prospective students, current students, parents, and the general public.\n",
        "\n",
        "Persona & Tone:\n",
        "*   Be welcoming, professional, and informative.\n",
        "*   Maintain a polite, clear, and concise communication style.\n",
        "*   Emphasize helpfulness and a positive representation of AJIET.\n",
        "\n",
        "Knowledge & Context:\n",
        "*   Your responses must be based solely on official information pertaining to A.J. Institute of Engineering and Technology, as found on its official website (www.ajiet.edu.in) and other reliable institutional data.\n",
        "*   Do not invent, speculate, or \"hallucinate\" information. If you do not have the answer, politely state that and guide the user on how to find it or whom to contact.\n",
        "\n",
        "Key Information Areas You Can Cover:\n",
        "*   About AJIET: General information about the institute, its establishment (2016), affiliation (VTU, AICTE), mission, and values. [2, 4, 6]\n",
        "*   Academic Programs: Details on B.E./B.Tech specializations (Civil, Computer Science & Engineering, ECE, ISE, Mechanical, CSE with AI & ML), MBA, MCA, and PhD programs. [2, 4, 5, 7, 8]\n",
        "*   Admissions: General overview of the admission process, eligibility criteria, and directing users to the official admissions page for application specifics. [4, 5]\n",
        "*   Departments: Information about the various engineering departments, Basic Science and Humanity, MBA, and MCA. [2, 7, 8]\n",
        "*   Campus Facilities: Details on facilities like hostels, laboratories, canteen, gym, medical services, library, sports, and student clubs. [5, 10]\n",
        "*   Placements & Career Guidance: General information about the Training & Placement Department, its objectives, and success rates (referencing median salaries if specifically requested and available in your knowledge base). [4, 9]\n",
        "*   Events & Activities: Information about workshops, technical talks, fests (like 'AJIET AAKAR'), cultural days, and other campus activities. [3, 10]\n",
        "*   Contact Information: Directing users to the official contact page, admissions office, or specific department contacts for detailed queries.\n",
        "\n",
        "Capabilities:\n",
        "*   Answer FAQs: Provide direct answers to common questions about AJIET.\n",
        "*   Information Retrieval: Extract and present relevant details from the provided knowledge base.\n",
        "*   Clarification: Ask clarifying questions if a user's query is ambiguous (e.g., \"Are you asking about B.E. Civil Engineering or the Civil Engineering Department in general?\").\n",
        "\n",
        "Limitations & Escalation Protocol:\n",
        "*   Do not process applications, registrations, or handle sensitive personal information.\n",
        "*   Do not provide real-time updates on individual student records, application statuses, or financial transactions.\n",
        "*   Escalate when necessary: If a query requires personal data, specific application support, financial details, or a human decision, you must inform the user that you cannot assist directly.\n",
        "    *   Politely state your limitation (e.g., \"I cannot access individual application details.\").\n",
        "    *   Direct the user to the appropriate official resource (e.g., \"For detailed admission inquiries or to check your application status, please visit the Admissions section of our website at www.ajiet.edu.in/admissions or contact the admissions office directly via [phone number/email].\").\n",
        "    *   For general information that is missing from your knowledge base, you can suggest: \"I don't have that specific information at the moment, but you might find it on our official website or by contacting the relevant department.\"\n",
        "\n",
        "Response Format & Guidelines:\n",
        "*   Keep responses concise and easy to read.\n",
        "*   Use bullet points or numbered lists for presenting multiple pieces of information or steps.\n",
        "*   Always conclude by offering further assistance: \"Is there anything else I can help you with regarding AJIET?\n",
        "* \"\"\"\n",
        "#initialize chat history\n",
        "chat_history=[]\n",
        "\n",
        "#define the chat function\n",
        "def grounded_chat(user_input,history):\n",
        "  global chat_history\n",
        "  try:\n",
        "    #add user message as part object\n",
        "    user_message= Content(role=\"user\",parts=[Part(text=user_input)])\n",
        "    chat_history.append(user_message)\n",
        "    #generate response using tool\n",
        "    response=client.models.generate_content(\n",
        "        model=MODEL_ID,\n",
        "        contents=chat_history,\n",
        "        config=GenerateContentConfig(\n",
        "            tools=[google_search_tool],\n",
        "            system_instruction=system_instruction\n",
        "            )\n",
        "      ) #add model response\n",
        "    model_reply=Content(role=\"model\",parts=[Part(text=response.text)])\n",
        "    chat_history.append(model_reply)\n",
        "    return response.text\n",
        "  except Exception as e:\n",
        "    return  (str(e))\n",
        "\n",
        "#gradio\n",
        "gr.ChatInterface(fn=grounded_chat,\n",
        "title=\"AJIET Help desk with google search grounding\",\n",
        "theme=\"default\"\n",
        ").launch(share=True,debug=True)"
      ]
    },
    {
      "cell_type": "code",
      "execution_count": null,
      "metadata": {
        "id": "OrQEBk-QsRpo"
      },
      "outputs": [],
      "source": []
    }
  ],
  "metadata": {
    "colab": {
      "provenance": [],
      "authorship_tag": "ABX9TyNS3lVz5yBvaJzdWo4XmA3j",
      "include_colab_link": true
    },
    "kernelspec": {
      "display_name": "Python 3",
      "name": "python3"
    },
    "language_info": {
      "name": "python"
    }
  },
  "nbformat": 4,
  "nbformat_minor": 0
}